{
 "cells": [
  {
   "cell_type": "markdown",
   "id": "bd9c92cd",
   "metadata": {},
   "source": [
    "# Task 1"
   ]
  },
  {
   "cell_type": "code",
   "execution_count": 1,
   "id": "6f7c9a82",
   "metadata": {},
   "outputs": [],
   "source": [
    "#Remove duplicates"
   ]
  },
  {
   "cell_type": "code",
   "execution_count": 2,
   "id": "684f77b7",
   "metadata": {},
   "outputs": [],
   "source": [
    "a=[2,3,4,2,3,4,8,9,12,\"apple\",'Apple']"
   ]
  },
  {
   "cell_type": "code",
   "execution_count": 3,
   "id": "26792e38",
   "metadata": {},
   "outputs": [],
   "source": [
    "a=set(a)"
   ]
  },
  {
   "cell_type": "code",
   "execution_count": 4,
   "id": "b926b9e8",
   "metadata": {},
   "outputs": [
    {
     "data": {
      "text/plain": [
       "{12, 2, 3, 4, 8, 9, 'Apple', 'apple'}"
      ]
     },
     "execution_count": 4,
     "metadata": {},
     "output_type": "execute_result"
    }
   ],
   "source": [
    "a"
   ]
  },
  {
   "cell_type": "markdown",
   "id": "e6c240a6",
   "metadata": {},
   "source": [
    "# Task 2"
   ]
  },
  {
   "cell_type": "code",
   "execution_count": 5,
   "id": "92bd2135",
   "metadata": {},
   "outputs": [],
   "source": [
    "# slice 'apple' from the give variable"
   ]
  },
  {
   "cell_type": "code",
   "execution_count": 6,
   "id": "448f25da",
   "metadata": {},
   "outputs": [],
   "source": [
    "B='i need an apple'"
   ]
  },
  {
   "cell_type": "code",
   "execution_count": 7,
   "id": "bf4824e6",
   "metadata": {},
   "outputs": [
    {
     "data": {
      "text/plain": [
       "'i need an apple'"
      ]
     },
     "execution_count": 7,
     "metadata": {},
     "output_type": "execute_result"
    }
   ],
   "source": [
    "B"
   ]
  },
  {
   "cell_type": "code",
   "execution_count": 8,
   "id": "ffa21920",
   "metadata": {},
   "outputs": [],
   "source": [
    "B=(B[10:15])"
   ]
  },
  {
   "cell_type": "code",
   "execution_count": 9,
   "id": "1ef0f115",
   "metadata": {},
   "outputs": [
    {
     "data": {
      "text/plain": [
       "'apple'"
      ]
     },
     "execution_count": 9,
     "metadata": {},
     "output_type": "execute_result"
    }
   ],
   "source": [
    "B"
   ]
  },
  {
   "cell_type": "markdown",
   "id": "7a2b1882",
   "metadata": {},
   "source": [
    "# Task 3"
   ]
  },
  {
   "cell_type": "code",
   "execution_count": 10,
   "id": "ba973e87",
   "metadata": {},
   "outputs": [],
   "source": [
    "# create a function for\n",
    "\n",
    "# add both number when both number are even,\n",
    "# multiple when both number are not a even number"
   ]
  },
  {
   "cell_type": "code",
   "execution_count": 11,
   "id": "74111b99",
   "metadata": {},
   "outputs": [],
   "source": [
    "def odd_even (O,E):\n",
    "    if O and E % 2 == 0:\n",
    "        A=O+E\n",
    "        return A\n",
    "    else:\n",
    "        A=O*E\n",
    "        return A"
   ]
  },
  {
   "cell_type": "code",
   "execution_count": 12,
   "id": "2add5116",
   "metadata": {},
   "outputs": [
    {
     "data": {
      "text/plain": [
       "14"
      ]
     },
     "execution_count": 12,
     "metadata": {},
     "output_type": "execute_result"
    }
   ],
   "source": [
    "odd_even (6,8)"
   ]
  },
  {
   "cell_type": "code",
   "execution_count": 13,
   "id": "454f26ca",
   "metadata": {},
   "outputs": [
    {
     "data": {
      "text/plain": [
       "99"
      ]
     },
     "execution_count": 13,
     "metadata": {},
     "output_type": "execute_result"
    }
   ],
   "source": [
    "odd_even (9,11)"
   ]
  },
  {
   "cell_type": "markdown",
   "id": "1189361d",
   "metadata": {},
   "source": [
    "# Task 4"
   ]
  },
  {
   "cell_type": "code",
   "execution_count": 18,
   "id": "b616537d",
   "metadata": {},
   "outputs": [],
   "source": [
    "# create a module and excute the module for the above task-3"
   ]
  },
  {
   "cell_type": "code",
   "execution_count": 2,
   "id": "cdbcd408",
   "metadata": {},
   "outputs": [],
   "source": [
    "import oddeven1"
   ]
  },
  {
   "cell_type": "code",
   "execution_count": 3,
   "id": "971f54da",
   "metadata": {},
   "outputs": [
    {
     "data": {
      "text/plain": [
       "12"
      ]
     },
     "execution_count": 3,
     "metadata": {},
     "output_type": "execute_result"
    }
   ],
   "source": [
    "oddeven1.odd_even(8,4)"
   ]
  },
  {
   "cell_type": "code",
   "execution_count": 4,
   "id": "940498a7",
   "metadata": {},
   "outputs": [
    {
     "data": {
      "text/plain": [
       "35"
      ]
     },
     "execution_count": 4,
     "metadata": {},
     "output_type": "execute_result"
    }
   ],
   "source": [
    "oddeven1.odd_even(7,5)"
   ]
  },
  {
   "cell_type": "markdown",
   "id": "4d4d2427",
   "metadata": {},
   "source": [
    "# Task 5"
   ]
  },
  {
   "cell_type": "code",
   "execution_count": 5,
   "id": "8182d561",
   "metadata": {},
   "outputs": [],
   "source": [
    "# Write a Python program to display a multiplication table(8th table) using for loop."
   ]
  },
  {
   "cell_type": "code",
   "execution_count": 7,
   "id": "66191d60",
   "metadata": {},
   "outputs": [
    {
     "name": "stdout",
     "output_type": "stream",
     "text": [
      "enter the number : 8\n",
      "table of: \n",
      "8 x 1 = 8\n",
      "8 x 2 = 16\n",
      "8 x 3 = 24\n",
      "8 x 4 = 32\n",
      "8 x 5 = 40\n",
      "8 x 6 = 48\n",
      "8 x 7 = 56\n",
      "8 x 8 = 64\n",
      "8 x 9 = 72\n",
      "8 x 10 = 80\n"
     ]
    }
   ],
   "source": [
    "num = int(input(\"enter the number : \"))\n",
    "print(\"table of: \")\n",
    "for a in range(1,11):\n",
    "    print(num,'x',a,'=',num*a)"
   ]
  },
  {
   "cell_type": "code",
   "execution_count": null,
   "id": "992410b6",
   "metadata": {},
   "outputs": [],
   "source": []
  }
 ],
 "metadata": {
  "kernelspec": {
   "display_name": "Python 3 (ipykernel)",
   "language": "python",
   "name": "python3"
  },
  "language_info": {
   "codemirror_mode": {
    "name": "ipython",
    "version": 3
   },
   "file_extension": ".py",
   "mimetype": "text/x-python",
   "name": "python",
   "nbconvert_exporter": "python",
   "pygments_lexer": "ipython3",
   "version": "3.10.8"
  }
 },
 "nbformat": 4,
 "nbformat_minor": 5
}
